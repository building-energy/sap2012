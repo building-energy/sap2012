{
 "cells": [
  {
   "cell_type": "markdown",
   "metadata": {},
   "source": [
    "# sap2012 - Quick Example"
   ]
  },
  {
   "cell_type": "code",
   "execution_count": 1,
   "metadata": {},
   "outputs": [
    {
     "name": "stdout",
     "output_type": "stream",
     "text": [
      "{'energy_cost_factor': 1.7754795340546146, 'SAP_rating_value': 75.23206049993813}\n"
     ]
    }
   ],
   "source": [
    "import json\n",
    "from sap2012 import calculate_worksheet\n",
    "with open('inputs.json') as f:\n",
    "    inputs=json.load(f)\n",
    "result=calculate_worksheet(inputs)\n",
    "print(result['SAP_rating'])"
   ]
  },
  {
   "cell_type": "code",
   "execution_count": 3,
   "metadata": {},
   "outputs": [],
   "source": [
    "with open('result.json','w') as f:\n",
    "    json.dump(result,f,indent=4)"
   ]
  }
 ],
 "metadata": {
  "kernelspec": {
   "display_name": "Python 3",
   "language": "python",
   "name": "python3"
  },
  "language_info": {
   "codemirror_mode": {
    "name": "ipython",
    "version": 3
   },
   "file_extension": ".py",
   "mimetype": "text/x-python",
   "name": "python",
   "nbconvert_exporter": "python",
   "pygments_lexer": "ipython3",
   "version": "3.7.7"
  }
 },
 "nbformat": 4,
 "nbformat_minor": 4
}
